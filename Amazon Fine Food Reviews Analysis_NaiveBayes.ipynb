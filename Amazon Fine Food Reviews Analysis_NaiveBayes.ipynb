{
 "cells": [
  {
   "cell_type": "markdown",
   "metadata": {
    "colab_type": "text",
    "id": "UIn1GsFNJkjH"
   },
   "source": [
    "# Amazon Fine Food Reviews Analysis\n",
    "\n",
    "\n",
    "Data Source: https://www.kaggle.com/snap/amazon-fine-food-reviews <br>\n",
    "\n",
    "EDA: https://nycdatascience.com/blog/student-works/amazon-fine-foods-visualization/\n",
    "\n",
    "\n",
    "The Amazon Fine Food Reviews dataset consists of reviews of fine foods from Amazon.<br>\n",
    "\n",
    "Number of reviews: 568,454<br>\n",
    "Number of users: 256,059<br>\n",
    "Number of products: 74,258<br>\n",
    "Timespan: Oct 1999 - Oct 2012<br>\n",
    "Number of Attributes/Columns in data: 10 \n",
    "\n",
    "Attribute Information:\n",
    "\n",
    "1. Id\n",
    "2. ProductId - unique identifier for the product\n",
    "3. UserId - unqiue identifier for the user\n",
    "4. ProfileName\n",
    "5. HelpfulnessNumerator - number of users who found the review helpful\n",
    "6. HelpfulnessDenominator - number of users who indicated whether they found the review helpful or not\n",
    "7. Score - rating between 1 and 5\n",
    "8. Time - timestamp for the review\n",
    "9. Summary - brief summary of the review\n",
    "10. Text - text of the review\n",
    "\n",
    "\n",
    "#### Objective:\n",
    "Given a review, determine whether the review is positive (rating of 4 or 5) or negative (rating of 1 or 2).\n",
    "\n",
    "<br>\n",
    "[Q] How to determine if a review is positive or negative?<br>\n",
    "<br> \n",
    "[Ans] We could use Score/Rating. A rating of 4 or 5 can be cosnidered as a positive review. A rating of 1 or 2 can be considered as negative one. A review of rating 3 is considered nuetral and such reviews are ignored from our analysis. This is an approximate and proxy way of determining the polarity (positivity/negativity) of a review.\n",
    "\n",
    "\n"
   ]
  },
  {
   "cell_type": "markdown",
   "metadata": {
    "colab_type": "text",
    "id": "5Uf26aoLJkjJ"
   },
   "source": [
    "# [1]. Reading Data"
   ]
  },
  {
   "cell_type": "markdown",
   "metadata": {
    "colab_type": "text",
    "id": "yo-LaJg3JkjK"
   },
   "source": [
    "## [1.1] Loading the data\n",
    "\n",
    "The dataset is available in two forms\n",
    "1. .csv file\n",
    "2. SQLite Database\n",
    "\n",
    "In order to load the data, We have used the SQLITE dataset as it is easier to query the data and visualise the data efficiently.\n",
    "<br> \n",
    "\n",
    "Here as we only want to get the global sentiment of the recommendations (positive or negative), we will purposefully ignore all Scores equal to 3. If the score is above 3, then the recommendation wil be set to \"positive\". Otherwise, it will be set to \"negative\"."
   ]
  },
  {
   "cell_type": "code",
   "execution_count": 3,
   "metadata": {
    "colab": {},
    "colab_type": "code",
    "id": "dLYq3BkfJkjL"
   },
   "outputs": [
    {
     "name": "stdout",
     "output_type": "stream",
     "text": [
      "[nltk_data] Downloading package stopwords to\n",
      "[nltk_data]     C:\\Users\\Zam\\AppData\\Roaming\\nltk_data...\n",
      "[nltk_data]   Package stopwords is already up-to-date!\n"
     ]
    }
   ],
   "source": [
    "# Importing libraries\n",
    "import warnings\n",
    "warnings.filterwarnings(\"ignore\")\n",
    "\n",
    "import sqlite3\n",
    "import pandas as pd\n",
    "import numpy as np\n",
    "import nltk\n",
    "import string\n",
    "import matplotlib.pyplot as plt\n",
    "%matplotlib inline\n",
    "import seaborn as sns\n",
    "from sklearn.feature_extraction.text import TfidfTransformer\n",
    "from sklearn.feature_extraction.text import TfidfVectorizer\n",
    "\n",
    "from sklearn.feature_extraction.text import CountVectorizer\n",
    "from nltk.stem.porter import PorterStemmer\n",
    "\n",
    "import re\n",
    "\n",
    "import nltk\n",
    "nltk.download('stopwords')\n",
    "import string\n",
    "from nltk.corpus import stopwords\n",
    "from nltk.stem import PorterStemmer\n",
    "from nltk.stem.wordnet import WordNetLemmatizer\n",
    "\n",
    "from gensim.models import Word2Vec\n",
    "from gensim.models import KeyedVectors\n",
    "import pickle\n"
   ]
  },
  {
   "cell_type": "code",
   "execution_count": 4,
   "metadata": {
    "colab": {},
    "colab_type": "code",
    "id": "rXVxnx_NJkjO",
    "outputId": "98628980-4d6e-4c53-913f-2d207932d2d0"
   },
   "outputs": [
    {
     "name": "stdout",
     "output_type": "stream",
     "text": [
      "(525814, 10)\n"
     ]
    },
    {
     "data": {
      "text/html": [
       "<div>\n",
       "<style scoped>\n",
       "    .dataframe tbody tr th:only-of-type {\n",
       "        vertical-align: middle;\n",
       "    }\n",
       "\n",
       "    .dataframe tbody tr th {\n",
       "        vertical-align: top;\n",
       "    }\n",
       "\n",
       "    .dataframe thead th {\n",
       "        text-align: right;\n",
       "    }\n",
       "</style>\n",
       "<table border=\"1\" class=\"dataframe\">\n",
       "  <thead>\n",
       "    <tr style=\"text-align: right;\">\n",
       "      <th></th>\n",
       "      <th>Id</th>\n",
       "      <th>ProductId</th>\n",
       "      <th>UserId</th>\n",
       "      <th>ProfileName</th>\n",
       "      <th>HelpfulnessNumerator</th>\n",
       "      <th>HelpfulnessDenominator</th>\n",
       "      <th>Score</th>\n",
       "      <th>Time</th>\n",
       "      <th>Summary</th>\n",
       "      <th>Text</th>\n",
       "    </tr>\n",
       "  </thead>\n",
       "  <tbody>\n",
       "    <tr>\n",
       "      <th>0</th>\n",
       "      <td>1</td>\n",
       "      <td>B001E4KFG0</td>\n",
       "      <td>A3SGXH7AUHU8GW</td>\n",
       "      <td>delmartian</td>\n",
       "      <td>1</td>\n",
       "      <td>1</td>\n",
       "      <td>positive</td>\n",
       "      <td>1303862400</td>\n",
       "      <td>Good Quality Dog Food</td>\n",
       "      <td>I have bought several of the Vitality canned d...</td>\n",
       "    </tr>\n",
       "    <tr>\n",
       "      <th>1</th>\n",
       "      <td>2</td>\n",
       "      <td>B00813GRG4</td>\n",
       "      <td>A1D87F6ZCVE5NK</td>\n",
       "      <td>dll pa</td>\n",
       "      <td>0</td>\n",
       "      <td>0</td>\n",
       "      <td>negative</td>\n",
       "      <td>1346976000</td>\n",
       "      <td>Not as Advertised</td>\n",
       "      <td>Product arrived labeled as Jumbo Salted Peanut...</td>\n",
       "    </tr>\n",
       "    <tr>\n",
       "      <th>2</th>\n",
       "      <td>3</td>\n",
       "      <td>B000LQOCH0</td>\n",
       "      <td>ABXLMWJIXXAIN</td>\n",
       "      <td>Natalia Corres \"Natalia Corres\"</td>\n",
       "      <td>1</td>\n",
       "      <td>1</td>\n",
       "      <td>positive</td>\n",
       "      <td>1219017600</td>\n",
       "      <td>\"Delight\" says it all</td>\n",
       "      <td>This is a confection that has been around a fe...</td>\n",
       "    </tr>\n",
       "    <tr>\n",
       "      <th>3</th>\n",
       "      <td>4</td>\n",
       "      <td>B000UA0QIQ</td>\n",
       "      <td>A395BORC6FGVXV</td>\n",
       "      <td>Karl</td>\n",
       "      <td>3</td>\n",
       "      <td>3</td>\n",
       "      <td>negative</td>\n",
       "      <td>1307923200</td>\n",
       "      <td>Cough Medicine</td>\n",
       "      <td>If you are looking for the secret ingredient i...</td>\n",
       "    </tr>\n",
       "    <tr>\n",
       "      <th>4</th>\n",
       "      <td>5</td>\n",
       "      <td>B006K2ZZ7K</td>\n",
       "      <td>A1UQRSCLF8GW1T</td>\n",
       "      <td>Michael D. Bigham \"M. Wassir\"</td>\n",
       "      <td>0</td>\n",
       "      <td>0</td>\n",
       "      <td>positive</td>\n",
       "      <td>1350777600</td>\n",
       "      <td>Great taffy</td>\n",
       "      <td>Great taffy at a great price.  There was a wid...</td>\n",
       "    </tr>\n",
       "  </tbody>\n",
       "</table>\n",
       "</div>"
      ],
      "text/plain": [
       "   Id   ProductId          UserId                      ProfileName  \\\n",
       "0   1  B001E4KFG0  A3SGXH7AUHU8GW                       delmartian   \n",
       "1   2  B00813GRG4  A1D87F6ZCVE5NK                           dll pa   \n",
       "2   3  B000LQOCH0   ABXLMWJIXXAIN  Natalia Corres \"Natalia Corres\"   \n",
       "3   4  B000UA0QIQ  A395BORC6FGVXV                             Karl   \n",
       "4   5  B006K2ZZ7K  A1UQRSCLF8GW1T    Michael D. Bigham \"M. Wassir\"   \n",
       "\n",
       "   HelpfulnessNumerator  HelpfulnessDenominator     Score        Time  \\\n",
       "0                     1                       1  positive  1303862400   \n",
       "1                     0                       0  negative  1346976000   \n",
       "2                     1                       1  positive  1219017600   \n",
       "3                     3                       3  negative  1307923200   \n",
       "4                     0                       0  positive  1350777600   \n",
       "\n",
       "                 Summary                                               Text  \n",
       "0  Good Quality Dog Food  I have bought several of the Vitality canned d...  \n",
       "1      Not as Advertised  Product arrived labeled as Jumbo Salted Peanut...  \n",
       "2  \"Delight\" says it all  This is a confection that has been around a fe...  \n",
       "3         Cough Medicine  If you are looking for the secret ingredient i...  \n",
       "4            Great taffy  Great taffy at a great price.  There was a wid...  "
      ]
     },
     "execution_count": 4,
     "metadata": {},
     "output_type": "execute_result"
    }
   ],
   "source": [
    "# using sqlite 3 to load the data\n",
    "con1 = sqlite3.connect('database.sqlite')\n",
    "\n",
    "# Eliminating the reviews which are equal to 3\n",
    "filtered_data = pd.read_sql_query(\"SELECT * FROM Reviews WHERE Score !=3\", con1)\n",
    "\n",
    "#Defining polarity\n",
    "def polarity(x):\n",
    "    if x < 3:\n",
    "        return 'negative'\n",
    "    else:\n",
    "        return 'positive'\n",
    "\n",
    "filtered_data['Score']=filtered_data['Score'].map(polarity)\n",
    "print(filtered_data.shape)\n",
    "filtered_data.head()"
   ]
  },
  {
   "cell_type": "code",
   "execution_count": 5,
   "metadata": {
    "colab": {},
    "colab_type": "code",
    "id": "ZLasp3QxJkjS"
   },
   "outputs": [
    {
     "name": "stdout",
     "output_type": "stream",
     "text": [
      "(364173, 10)\n"
     ]
    },
    {
     "data": {
      "text/html": [
       "<div>\n",
       "<style scoped>\n",
       "    .dataframe tbody tr th:only-of-type {\n",
       "        vertical-align: middle;\n",
       "    }\n",
       "\n",
       "    .dataframe tbody tr th {\n",
       "        vertical-align: top;\n",
       "    }\n",
       "\n",
       "    .dataframe thead th {\n",
       "        text-align: right;\n",
       "    }\n",
       "</style>\n",
       "<table border=\"1\" class=\"dataframe\">\n",
       "  <thead>\n",
       "    <tr style=\"text-align: right;\">\n",
       "      <th></th>\n",
       "      <th>Id</th>\n",
       "      <th>ProductId</th>\n",
       "      <th>UserId</th>\n",
       "      <th>ProfileName</th>\n",
       "      <th>HelpfulnessNumerator</th>\n",
       "      <th>HelpfulnessDenominator</th>\n",
       "      <th>Score</th>\n",
       "      <th>Time</th>\n",
       "      <th>Summary</th>\n",
       "      <th>Text</th>\n",
       "    </tr>\n",
       "  </thead>\n",
       "  <tbody>\n",
       "    <tr>\n",
       "      <th>138706</th>\n",
       "      <td>150524</td>\n",
       "      <td>0006641040</td>\n",
       "      <td>ACITT7DI6IDDL</td>\n",
       "      <td>shari zychinski</td>\n",
       "      <td>0</td>\n",
       "      <td>0</td>\n",
       "      <td>positive</td>\n",
       "      <td>939340800</td>\n",
       "      <td>EVERY book is educational</td>\n",
       "      <td>this witty little book makes my son laugh at l...</td>\n",
       "    </tr>\n",
       "    <tr>\n",
       "      <th>138688</th>\n",
       "      <td>150506</td>\n",
       "      <td>0006641040</td>\n",
       "      <td>A2IW4PEEKO2R0U</td>\n",
       "      <td>Tracy</td>\n",
       "      <td>1</td>\n",
       "      <td>1</td>\n",
       "      <td>positive</td>\n",
       "      <td>1194739200</td>\n",
       "      <td>Love the book, miss the hard cover version</td>\n",
       "      <td>I grew up reading these Sendak books, and watc...</td>\n",
       "    </tr>\n",
       "    <tr>\n",
       "      <th>138689</th>\n",
       "      <td>150507</td>\n",
       "      <td>0006641040</td>\n",
       "      <td>A1S4A3IQ2MU7V4</td>\n",
       "      <td>sally sue \"sally sue\"</td>\n",
       "      <td>1</td>\n",
       "      <td>1</td>\n",
       "      <td>positive</td>\n",
       "      <td>1191456000</td>\n",
       "      <td>chicken soup with rice months</td>\n",
       "      <td>This is a fun way for children to learn their ...</td>\n",
       "    </tr>\n",
       "  </tbody>\n",
       "</table>\n",
       "</div>"
      ],
      "text/plain": [
       "            Id   ProductId          UserId            ProfileName  \\\n",
       "138706  150524  0006641040   ACITT7DI6IDDL        shari zychinski   \n",
       "138688  150506  0006641040  A2IW4PEEKO2R0U                  Tracy   \n",
       "138689  150507  0006641040  A1S4A3IQ2MU7V4  sally sue \"sally sue\"   \n",
       "\n",
       "        HelpfulnessNumerator  HelpfulnessDenominator     Score        Time  \\\n",
       "138706                     0                       0  positive   939340800   \n",
       "138688                     1                       1  positive  1194739200   \n",
       "138689                     1                       1  positive  1191456000   \n",
       "\n",
       "                                           Summary  \\\n",
       "138706                   EVERY book is educational   \n",
       "138688  Love the book, miss the hard cover version   \n",
       "138689               chicken soup with rice months   \n",
       "\n",
       "                                                     Text  \n",
       "138706  this witty little book makes my son laugh at l...  \n",
       "138688  I grew up reading these Sendak books, and watc...  \n",
       "138689  This is a fun way for children to learn their ...  "
      ]
     },
     "execution_count": 5,
     "metadata": {},
     "output_type": "execute_result"
    }
   ],
   "source": [
    "#sorting product id in ascending order\n",
    "sorted_data = filtered_data.sort_values('ProductId', axis=0, ascending=True, inplace=False, kind='quicksort', na_position='last')\n",
    "\n",
    "#Deduplication\n",
    "final = sorted_data.drop_duplicates(subset={\"UserId\",\"ProfileName\",\"Time\",\"Text\"}, keep='first',inplace=False)\n",
    "\n",
    "print(final.shape)\n",
    "final.head(3)"
   ]
  },
  {
   "cell_type": "code",
   "execution_count": 6,
   "metadata": {},
   "outputs": [
    {
     "data": {
      "text/plain": [
       "69.25890143662969"
      ]
     },
     "execution_count": 6,
     "metadata": {},
     "output_type": "execute_result"
    }
   ],
   "source": [
    "(final.shape[0]/sorted_data.shape[0])*100"
   ]
  },
  {
   "cell_type": "code",
   "execution_count": 7,
   "metadata": {
    "colab": {},
    "colab_type": "code",
    "id": "pHzk_lUkJkjW",
    "outputId": "3461f626-dc72-4b0d-af37-c3625e7e81b2",
    "scrolled": true
   },
   "outputs": [
    {
     "name": "stdout",
     "output_type": "stream",
     "text": [
      "(364171, 10)\n"
     ]
    }
   ],
   "source": [
    "# Removing rows where HelpfulnessNumerator is greater than HelpfulnessDenominator\n",
    "final = final[final.HelpfulnessNumerator <= final.HelpfulnessDenominator]\n",
    "print(final.shape)"
   ]
  },
  {
   "cell_type": "markdown",
   "metadata": {},
   "source": [
    "# Text Preprocessing: Stemming, stop-word removal and Lemmatization"
   ]
  },
  {
   "cell_type": "code",
   "execution_count": 8,
   "metadata": {},
   "outputs": [],
   "source": [
    "#importing the stopwords\n",
    "from nltk.corpus import stopwords\n",
    "stop=set(stopwords.words('english'))\n",
    "words_to_keep = set(('not'))\n",
    "stop -= words_to_keep\n",
    "\n",
    "#initialising snowball stemmer\n",
    "sno = nltk.stem.SnowballStemmer('english')\n",
    "\n",
    "#function to clean html-tags\n",
    "def cleanhtml(sentence):\n",
    "    cleanr = re.compile('<.*?>')\n",
    "    cleantext = re.sub(cleanr, ' ', sentence)\n",
    "    return cleantext\n",
    "\n",
    "#function to clean the word of any punctuation or special characters\n",
    "def cleanpunc(sentence): \n",
    "    cleaned = re.sub(r'[?|!|\\'|\"|#]',r'',sentence)\n",
    "    cleaned = re.sub(r'[.|,|)|(|\\|/]',r' ',cleaned)\n",
    "    return  cleaned"
   ]
  },
  {
   "cell_type": "code",
   "execution_count": 9,
   "metadata": {},
   "outputs": [],
   "source": [
    "#Code for removing HTML tags , punctuations . Code for removing stopwords . Code for checking if word is not alphanumeric and\n",
    "# also greater than 2 . Code for stemmimg and also to convert them to lowercase letters \n",
    "i=0\n",
    "str1=' '\n",
    "final_string=[]\n",
    "all_positive_words=[] # store words from +ve reviews here\n",
    "all_negative_words=[] # store words from -ve reviews here.\n",
    "s=''\n",
    "for sent in final['Text'].values:\n",
    "    filtered_sentence=[]\n",
    "    #print(sent);\n",
    "    sent=cleanhtml(sent) # remove HTMl tags\n",
    "    for w in sent.split():\n",
    "        for cleaned_words in cleanpunc(w).split():\n",
    "            if((cleaned_words.isalpha()) & (len(cleaned_words)>2)):    \n",
    "                if(cleaned_words.lower() not in stop):\n",
    "                    s=(sno.stem(cleaned_words.lower())).encode('utf8')\n",
    "                    filtered_sentence.append(s)\n",
    "                    if (final['Score'].values)[i] == 'positive': \n",
    "                        all_positive_words.append(s) #list of all words used to describe positive reviews\n",
    "                    if(final['Score'].values)[i] == 'negative':\n",
    "                        all_negative_words.append(s) #list of all words used to describe negative reviews reviews\n",
    "                else:\n",
    "                    continue\n",
    "            else:\n",
    "                continue \n",
    "    \n",
    "    str1 = b\" \".join(filtered_sentence) #final string of cleaned words\n",
    "    \n",
    "    \n",
    "    final_string.append(str1)\n",
    "    i+=1"
   ]
  },
  {
   "cell_type": "code",
   "execution_count": 10,
   "metadata": {},
   "outputs": [
    {
     "name": "stdout",
     "output_type": "stream",
     "text": [
      "Shape of final (364171, 11)\n"
     ]
    },
    {
     "data": {
      "text/html": [
       "<div>\n",
       "<style scoped>\n",
       "    .dataframe tbody tr th:only-of-type {\n",
       "        vertical-align: middle;\n",
       "    }\n",
       "\n",
       "    .dataframe tbody tr th {\n",
       "        vertical-align: top;\n",
       "    }\n",
       "\n",
       "    .dataframe thead th {\n",
       "        text-align: right;\n",
       "    }\n",
       "</style>\n",
       "<table border=\"1\" class=\"dataframe\">\n",
       "  <thead>\n",
       "    <tr style=\"text-align: right;\">\n",
       "      <th></th>\n",
       "      <th>Id</th>\n",
       "      <th>ProductId</th>\n",
       "      <th>UserId</th>\n",
       "      <th>ProfileName</th>\n",
       "      <th>HelpfulnessNumerator</th>\n",
       "      <th>HelpfulnessDenominator</th>\n",
       "      <th>Score</th>\n",
       "      <th>Time</th>\n",
       "      <th>Summary</th>\n",
       "      <th>Text</th>\n",
       "      <th>CleanedText</th>\n",
       "    </tr>\n",
       "  </thead>\n",
       "  <tbody>\n",
       "    <tr>\n",
       "      <th>138706</th>\n",
       "      <td>150524</td>\n",
       "      <td>0006641040</td>\n",
       "      <td>ACITT7DI6IDDL</td>\n",
       "      <td>shari zychinski</td>\n",
       "      <td>0</td>\n",
       "      <td>0</td>\n",
       "      <td>positive</td>\n",
       "      <td>939340800</td>\n",
       "      <td>EVERY book is educational</td>\n",
       "      <td>this witty little book makes my son laugh at l...</td>\n",
       "      <td>witti littl book make son laugh loud recit car...</td>\n",
       "    </tr>\n",
       "    <tr>\n",
       "      <th>138688</th>\n",
       "      <td>150506</td>\n",
       "      <td>0006641040</td>\n",
       "      <td>A2IW4PEEKO2R0U</td>\n",
       "      <td>Tracy</td>\n",
       "      <td>1</td>\n",
       "      <td>1</td>\n",
       "      <td>positive</td>\n",
       "      <td>1194739200</td>\n",
       "      <td>Love the book, miss the hard cover version</td>\n",
       "      <td>I grew up reading these Sendak books, and watc...</td>\n",
       "      <td>grew read sendak book watch realli rosi movi i...</td>\n",
       "    </tr>\n",
       "    <tr>\n",
       "      <th>138689</th>\n",
       "      <td>150507</td>\n",
       "      <td>0006641040</td>\n",
       "      <td>A1S4A3IQ2MU7V4</td>\n",
       "      <td>sally sue \"sally sue\"</td>\n",
       "      <td>1</td>\n",
       "      <td>1</td>\n",
       "      <td>positive</td>\n",
       "      <td>1191456000</td>\n",
       "      <td>chicken soup with rice months</td>\n",
       "      <td>This is a fun way for children to learn their ...</td>\n",
       "      <td>fun way children learn month year learn poem t...</td>\n",
       "    </tr>\n",
       "    <tr>\n",
       "      <th>138690</th>\n",
       "      <td>150508</td>\n",
       "      <td>0006641040</td>\n",
       "      <td>AZGXZ2UUK6X</td>\n",
       "      <td>Catherine Hallberg \"(Kate)\"</td>\n",
       "      <td>1</td>\n",
       "      <td>1</td>\n",
       "      <td>positive</td>\n",
       "      <td>1076025600</td>\n",
       "      <td>a good swingy rhythm for reading aloud</td>\n",
       "      <td>This is a great little book to read aloud- it ...</td>\n",
       "      <td>great littl book read nice rhythm well good re...</td>\n",
       "    </tr>\n",
       "    <tr>\n",
       "      <th>138691</th>\n",
       "      <td>150509</td>\n",
       "      <td>0006641040</td>\n",
       "      <td>A3CMRKGE0P909G</td>\n",
       "      <td>Teresa</td>\n",
       "      <td>3</td>\n",
       "      <td>4</td>\n",
       "      <td>positive</td>\n",
       "      <td>1018396800</td>\n",
       "      <td>A great way to learn the months</td>\n",
       "      <td>This is a book of poetry about the months of t...</td>\n",
       "      <td>book poetri month year goe month cute littl po...</td>\n",
       "    </tr>\n",
       "  </tbody>\n",
       "</table>\n",
       "</div>"
      ],
      "text/plain": [
       "            Id   ProductId          UserId                  ProfileName  \\\n",
       "138706  150524  0006641040   ACITT7DI6IDDL              shari zychinski   \n",
       "138688  150506  0006641040  A2IW4PEEKO2R0U                        Tracy   \n",
       "138689  150507  0006641040  A1S4A3IQ2MU7V4        sally sue \"sally sue\"   \n",
       "138690  150508  0006641040     AZGXZ2UUK6X  Catherine Hallberg \"(Kate)\"   \n",
       "138691  150509  0006641040  A3CMRKGE0P909G                       Teresa   \n",
       "\n",
       "        HelpfulnessNumerator  HelpfulnessDenominator     Score        Time  \\\n",
       "138706                     0                       0  positive   939340800   \n",
       "138688                     1                       1  positive  1194739200   \n",
       "138689                     1                       1  positive  1191456000   \n",
       "138690                     1                       1  positive  1076025600   \n",
       "138691                     3                       4  positive  1018396800   \n",
       "\n",
       "                                           Summary  \\\n",
       "138706                   EVERY book is educational   \n",
       "138688  Love the book, miss the hard cover version   \n",
       "138689               chicken soup with rice months   \n",
       "138690      a good swingy rhythm for reading aloud   \n",
       "138691             A great way to learn the months   \n",
       "\n",
       "                                                     Text  \\\n",
       "138706  this witty little book makes my son laugh at l...   \n",
       "138688  I grew up reading these Sendak books, and watc...   \n",
       "138689  This is a fun way for children to learn their ...   \n",
       "138690  This is a great little book to read aloud- it ...   \n",
       "138691  This is a book of poetry about the months of t...   \n",
       "\n",
       "                                              CleanedText  \n",
       "138706  witti littl book make son laugh loud recit car...  \n",
       "138688  grew read sendak book watch realli rosi movi i...  \n",
       "138689  fun way children learn month year learn poem t...  \n",
       "138690  great littl book read nice rhythm well good re...  \n",
       "138691  book poetri month year goe month cute littl po...  "
      ]
     },
     "execution_count": 10,
     "metadata": {},
     "output_type": "execute_result"
    }
   ],
   "source": [
    "#adding a column of CleanedText which displays the data after pre-processing of the review\n",
    "final['CleanedText']=final_string  \n",
    "final['CleanedText']=final['CleanedText'].str.decode(\"utf-8\")\n",
    "\n",
    "#below the processed review can be seen in the CleanedText Column \n",
    "print('Shape of final',final.shape)\n",
    "final.head()"
   ]
  },
  {
   "cell_type": "code",
   "execution_count": 57,
   "metadata": {},
   "outputs": [],
   "source": [
    "from sklearn.model_selection import train_test_split\n",
    "# sorting based on time\n",
    "time_sorted_data = final.sort_values('Time', axis=0, ascending = True, inplace=False, kind='quicksort', na_position = 'last' )\n",
    "\n",
    "x=time_sorted_data['CleanedText']\n",
    "y=time_sorted_data['Score']\n",
    "\n",
    "X_train, X_test, Y_train, Y_test = train_test_split(x, y, test_size=0.3, random_state=0)"
   ]
  },
  {
   "cell_type": "markdown",
   "metadata": {
    "colab_type": "text",
    "id": "ChHwtw1iJkky"
   },
   "source": [
    "# [4] Featurization"
   ]
  },
  {
   "cell_type": "markdown",
   "metadata": {
    "colab_type": "text",
    "id": "qyWESNvzJkky"
   },
   "source": [
    "## [4.1] BAG OF WORDS"
   ]
  },
  {
   "cell_type": "code",
   "execution_count": 58,
   "metadata": {
    "colab": {},
    "colab_type": "code",
    "id": "zS0niozAJkkz",
    "outputId": "e2a25e5d-2e1a-497a-f094-a7e249201001"
   },
   "outputs": [
    {
     "name": "stdout",
     "output_type": "stream",
     "text": [
      "the type of count vectorizer : <class 'scipy.sparse.csr.csr_matrix'>\n",
      "the shape of out text BOW vectorizer :  (254919, 12709)\n",
      "the number of unique words : 12709\n"
     ]
    }
   ],
   "source": [
    "count_vect = CountVectorizer(min_df=10)\n",
    "X_train_vec = count_vect.fit_transform(X_train)\n",
    "X_test_vec = count_vect.transform(X_test)\n",
    "\n",
    "print(\"the type of count vectorizer :\",type(X_train_vec))\n",
    "print(\"the shape of out text BOW vectorizer : \",X_train_vec.get_shape())\n",
    "print(\"the number of unique words :\", X_train_vec.get_shape()[1])"
   ]
  },
  {
   "cell_type": "markdown",
   "metadata": {},
   "source": [
    "# Tasks"
   ]
  },
  {
   "cell_type": "markdown",
   "metadata": {
    "colab_type": "text",
    "id": "O1ABSoejJklc"
   },
   "source": [
    "<ol>\n",
    "    <li><strong>Apply Multinomial NaiveBayes on these feature sets</strong>\n",
    "        <ul>\n",
    "            <li><font color='red'>SET 1:</font>Review text, preprocessed one converted into vectors using (BOW)</li>\n",
    "            <li><font color='red'>SET 2:</font>Review text, preprocessed one converted into vectors using (TFIDF)</li>\n",
    "        </ul>\n",
    "    </li>\n",
    "    <br>\n",
    "    <li><strong>The hyper paramter tuning(find best Alpha)</strong>\n",
    "        <ul>\n",
    "    <li>Find the best hyper parameter which will give the maximum <a href='https://www.appliedaicourse.com/course/applied-ai-course-online/lessons/receiver-operating-characteristic-curve-roc-curve-and-auc-1/'>AUC</a> value</li>\n",
    "    <li>Consider a wide range of alpha values for hyperparameter tuning, start as low as 0.00001</li>\n",
    "    <li>Find the best hyper paramter using k-fold cross validation or simple cross validation data</li>\n",
    "    <li>Use gridsearch cv or randomsearch cv or you can also write your own for loops to do this task of hyperparameter tuning</li>\n",
    "        </ul>\n",
    "    </li>\n",
    "    <br>\n",
    "    <li><strong>Feature importance</strong>\n",
    "        <ul>\n",
    "    <li>Find the top 10 features of positive class and top 10 features of negative class for both feature sets <font color='red'>Set 1</font> and <font color='red'>Set 2</font> using values of `feature_log_prob_` parameter of  <a href='https://scikit-learn.org/stable/modules/generated/sklearn.naive_bayes.MultinomialNB.html'>MultinomialNB</a> and print their corresponding feature names</li>\n",
    "        </ul>\n",
    "    </li>\n",
    "    <br>\n",
    "    <li><strong>Feature engineering</strong>\n",
    "        <ul>\n",
    "    <li>To increase the performance of your model, you can also experiment with with feature engineering like :</li>\n",
    "            <ul>\n",
    "            <li>Taking length of reviews as another feature.</li>\n",
    "            <li>Considering some features from review summary as well.</li>\n",
    "        </ul>\n",
    "        </ul>\n",
    "    </li>\n",
    "    <br>\n",
    "    <li><strong>Representation of results</strong>\n",
    "        <ul>\n",
    "    <li>You need to plot the performance of model both on train data and cross validation data for each hyper parameter, like shown in the figure. Here on X-axis you will have alpha values, since they have a wide range, just to represent those alpha values on the graph, apply log function on those alpha values.\n",
    "    <img src='train_cv_auc.JPG' width=300px></li>\n",
    "    <li>Once after you found the best hyper parameter, you need to train your model with it, and find the AUC on test data and plot the ROC curve on both train and test.\n",
    "    <img src='train_test_auc.JPG' width=300px></li>\n",
    "    <li>Along with plotting ROC curve, you need to print the <a href='https://www.appliedaicourse.com/course/applied-ai-course-online/lessons/confusion-matrix-tpr-fpr-fnr-tnr-1/'>confusion matrix</a> with predicted and original labels of test data points. Please visualize your confusion matrices using <a href='https://seaborn.pydata.org/generated/seaborn.heatmap.html'>seaborn heatmaps.\n",
    "    <img src='confusion_matrix.png' width=300px></li>\n",
    "        </ul>\n",
    "    </li>\n",
    "    <br>\n",
    "    <li><strong>Conclusion</strong>\n",
    "        <ul>\n",
    "    <li>You need to summarize the results at the end of the notebook, summarize it in the table format. To print out a table please refer to this prettytable library<a href='http://zetcode.com/python/prettytable/'>  link</a> \n",
    "        <img src='summary.JPG' width=400px>\n",
    "    </li>\n",
    "        </ul>\n",
    "</ol>"
   ]
  },
  {
   "cell_type": "markdown",
   "metadata": {
    "colab_type": "text",
    "id": "YawkDx8TJklc"
   },
   "source": [
    "<h4><font color='red'>Note: Data Leakage</font></h4>\n",
    "\n",
    "1. There will be an issue of data-leakage if you vectorize the entire data and then split it into train/cv/test.\n",
    "2. To avoid the issue of data-leakag, make sure to split your data first and then vectorize it. \n",
    "3. While vectorizing your data, apply the method fit_transform() on you train data, and apply the method transform() on cv/test data.\n",
    "4. For more details please go through this <a href='https://soundcloud.com/applied-ai-course/leakage-bow-and-tfidf'>link.</a>"
   ]
  },
  {
   "cell_type": "markdown",
   "metadata": {
    "colab_type": "text",
    "id": "RGRFxjhgJklc"
   },
   "source": [
    "# Applying Multinomial Naive Bayes"
   ]
  },
  {
   "cell_type": "markdown",
   "metadata": {
    "colab_type": "text",
    "id": "FxGKHpZlJkle"
   },
   "source": [
    "## [5.1] Applying Naive Bayes on BOW,<font color='red'> SET 1</font>"
   ]
  },
  {
   "cell_type": "code",
   "execution_count": 59,
   "metadata": {
    "colab": {},
    "colab_type": "code",
    "id": "UR0f8SfZJkle"
   },
   "outputs": [
    {
     "name": "stdout",
     "output_type": "stream",
     "text": [
      "\n",
      "The optimal value of alpha is 0.009.\n"
     ]
    }
   ],
   "source": [
    "#Applying 10-fold CV\n",
    "from sklearn.model_selection import cross_val_score\n",
    "from sklearn.naive_bayes import MultinomialNB\n",
    "\n",
    "#creating alpha values in range of 10(power=-3) to 10(power=3)\n",
    "neighbors = []\n",
    "i=0.001\n",
    "while(i<=1000):\n",
    "    neighbors.append(np.round(i,3))\n",
    "    i *= 3\n",
    "    \n",
    "#empty list for cv scores\n",
    "cv_scores=[]\n",
    "\n",
    "#perform 10 fold cv\n",
    "for k in neighbors:\n",
    "    bn=MultinomialNB(alpha=k)\n",
    "    scores=cross_val_score(bn,X_train_vec, Y_train, cv=10, scoring='accuracy', n_jobs =-1)\n",
    "    cv_scores.append(scores.mean())\n",
    "    \n",
    "#determine best alpha\n",
    "optimal_alpha=neighbors[cv_scores.index(max(cv_scores))]\n",
    "print('\\nThe optimal value of alpha is %.3f.' % optimal_alpha)"
   ]
  },
  {
   "cell_type": "code",
   "execution_count": 66,
   "metadata": {
    "scrolled": false
   },
   "outputs": [
    {
     "data": {
      "image/png": "[encoded data removed]",
      "text/plain": [
       "<Figure size 432x288 with 1 Axes>"
      ]
     },
     "metadata": {},
     "output_type": "display_data"
    },
    {
     "name": "stdout",
     "output_type": "stream",
     "text": [
      "\n",
      " Alpha values [0.001, 0.003, 0.009, 0.027, 0.081, 0.243, 0.729, 2.187, 6.561, 19.683, 59.049, 177.147, 531.441]\n",
      "\n",
      " Accuracy values [0.90071 0.90077 0.90079 0.90079 0.90067 0.90058 0.9003  0.89991 0.90037\n",
      " 0.90068 0.87746 0.84643 0.84335]\n"
     ]
    }
   ],
   "source": [
    "plt.plot(neighbors,cv_scores)\n",
    "plt.xlabel(\"Alpha\")\n",
    "plt.ylabel(\"Accuracy\")\n",
    "plt.title(\"Alpha versus Accuracy\")\n",
    "plt.grid()\n",
    "plt.show()\n",
    "\n",
    "print(\"\\n Alpha values\", neighbors)\n",
    "print(\"\\n Accuracy values\", np.round(cv_scores,5))"
   ]
  },
  {
   "cell_type": "code",
   "execution_count": 61,
   "metadata": {},
   "outputs": [
    {
     "name": "stdout",
     "output_type": "stream",
     "text": [
      "Test acc of this NB model with alpha = 0.009 is 89.915974\n"
     ]
    }
   ],
   "source": [
    "from sklearn.metrics import accuracy_score\n",
    "# NB plot for optimal alpha\n",
    "bn_optimal = MultinomialNB(alpha = optimal_alpha)\n",
    "\n",
    "bn_optimal.fit(X_train_vec,Y_train)\n",
    "\n",
    "predictions = bn_optimal.predict(X_test_vec)\n",
    "\n",
    "acc = accuracy_score(Y_test,predictions) * 100\n",
    "print('Test acc of this NB model with alpha = %.3f is %f' % (optimal_alpha, acc))\n",
    "\n",
    "# Variables that will be used for  making table in Conclusion part of this assignment\n",
    "bow_multinomial_alpha = optimal_alpha\n",
    "bow_multinomial_train_acc = max(cv_scores)*100\n",
    "bow_multinomial_test_acc = acc"
   ]
  },
  {
   "cell_type": "markdown",
   "metadata": {
    "colab_type": "text",
    "id": "u-ZSD3tlJklg"
   },
   "source": [
    "### [5.1.1] Top 10 important features of positive class from<font color='red'> SET 1</font>"
   ]
  },
  {
   "cell_type": "code",
   "execution_count": 62,
   "metadata": {
    "colab": {},
    "colab_type": "code",
    "id": "86fu_aO8Jklg"
   },
   "outputs": [
    {
     "data": {
      "text/plain": [
       "array(['negative', 'positive'], dtype='<U8')"
      ]
     },
     "execution_count": 62,
     "metadata": {},
     "output_type": "execute_result"
    }
   ],
   "source": [
    "bn_optimal.classes_"
   ]
  },
  {
   "cell_type": "code",
   "execution_count": 68,
   "metadata": {},
   "outputs": [
    {
     "name": "stdout",
     "output_type": "stream",
     "text": [
      "\u001b[1m  Top 10 positive features are \u001b[0m\n",
      "beaten = -11.356869\n",
      "shipe = -13.066517\n",
      "rda = -10.622099\n",
      "satisfactori = -10.958553\n",
      "satur = -9.239673\n",
      "sandwhich = -12.162376\n",
      "refresh = -7.871150\n",
      "satan = -12.904077\n",
      "overkil = -12.071423\n",
      "long = -6.497812\n"
     ]
    }
   ],
   "source": [
    "class_features = bn_optimal.feature_log_prob_\n",
    "\n",
    "# row 0 is for negative and row 1 is positive\n",
    "negative_features = class_features[0]\n",
    "positive_features = class_features[1]\n",
    "\n",
    "#Getting all feature names\n",
    "feature_names = count_vect.get_feature_names()\n",
    "\n",
    "#Sorting by argsort\n",
    "sorted_negative_features = np.argsort(negative_features[::-1])\n",
    "sorted_positive_features = np.argsort(positive_features[::-1])\n",
    "\n",
    "print('\\033[1m  Top 10 positive features are \\033[0m')\n",
    "for i in list(sorted_positive_features[0:10]):\n",
    "        print(\"%s = %f\" % (feature_names[i] , positive_features[i]))"
   ]
  },
  {
   "cell_type": "markdown",
   "metadata": {
    "colab_type": "text",
    "id": "mquFtwF5Jklj"
   },
   "source": [
    "### [5.1.2] Top 10 important features of negative class from<font color='red'> SET 1</font>"
   ]
  },
  {
   "cell_type": "code",
   "execution_count": 67,
   "metadata": {
    "colab": {},
    "colab_type": "code",
    "id": "_RacUnTrJklj"
   },
   "outputs": [
    {
     "name": "stdout",
     "output_type": "stream",
     "text": [
      "\u001b[1m  Top 10 negative features are \u001b[0m\n",
      "steam = -9.070005\n",
      "weeni = -12.912620\n",
      "lactaid = -19.011692\n",
      "atmospher = -13.603524\n",
      "kuerig = -11.356249\n",
      "atroci = -11.304979\n",
      "korea = -11.661461\n",
      "disapprov = -12.353966\n",
      "disast = -9.870237\n",
      "knott = -12.912620\n"
     ]
    }
   ],
   "source": [
    "class_features = bn_optimal.feature_log_prob_\n",
    "\n",
    "# row 0 is for negative and row 1 is positive\n",
    "negative_features = class_features[0]\n",
    "positive_features = class_features[1]\n",
    "\n",
    "#Getting all feature names\n",
    "feature_names = count_vect.get_feature_names()\n",
    "\n",
    "#Sorting by argsort\n",
    "sorted_negative_features = np.argsort(negative_features[::-1])\n",
    "sorted_positive_features = np.argsort(positive_features[::-1])\n",
    "\n",
    "print('\\033[1m  Top 10 negative features are \\033[0m')\n",
    "for i in list(sorted_negative_features[0:10]):\n",
    "        print(\"%s = %f\" % (feature_names[i] , negative_features[i]))"
   ]
  },
  {
   "cell_type": "markdown",
   "metadata": {},
   "source": [
    "# Seaborn heatmap for representation of confusion matrix"
   ]
  },
  {
   "cell_type": "code",
   "execution_count": 65,
   "metadata": {},
   "outputs": [
    {
     "name": "stdout",
     "output_type": "stream",
     "text": [
      "TPR of the Multinomial naive Bayes classifier for alpha = 0.009 is :  0.943878\n",
      "FPR of the Multinomial naive Bayes classifier for alpha = 0.009 is :  0.327755\n",
      "TNR of the Multinomial naive Bayes classifier for alpha = 0.009 is :  0.672245\n",
      "FNR of the Multinomial naive Bayes classifier for alpha = 0.009 is :  0.056122\n"
     ]
    },
    {
     "data": {
      "image/png": "[encoded data removed]",
      "text/plain": [
       "<Figure size 720x504 with 2 Axes>"
      ]
     },
     "metadata": {},
     "output_type": "display_data"
    }
   ],
   "source": [
    "#Ref: Stackoverflow \n",
    "from sklearn.metrics import accuracy_score,confusion_matrix,f1_score,precision_score,recall_score \n",
    "# Evaluate TPR , FPR , TNR , FNR\n",
    "TrueNeg,FalseNeg,FalsePos, TruePos = confusion_matrix(Y_test, predictions).ravel()\n",
    "\n",
    "# Evaluate TPR (TPR = TP/(FN+TP))\n",
    "TPR = TruePos/(FalseNeg + TruePos)\n",
    "print(\"TPR of the Multinomial naive Bayes classifier for alpha = %.3f is :  %f\" % (optimal_alpha,TPR))\n",
    "\n",
    "# Evaluate FPR (FPR = FP/(TN+FP))\n",
    "FPR = FalsePos/(TrueNeg + FalsePos)\n",
    "print(\"FPR of the Multinomial naive Bayes classifier for alpha = %.3f is :  %f\" % (optimal_alpha,FPR))\n",
    "\n",
    "# Evaluate TNR (TNR = TN/(TN+FP))\n",
    "TNR = TrueNeg/(TrueNeg + FalsePos)\n",
    "print(\"TNR of the Multinomial naive Bayes classifier for alpha = %.3f is :  %f\" % (optimal_alpha,TNR))\n",
    "\n",
    "# Evaluate FNR (FNR = TN/(FN+TP))\n",
    "FNR = FalseNeg/(FalseNeg + TruePos)\n",
    "print(\"FNR of the Multinomial naive Bayes classifier for alpha = %.3f is :  %f\" % (optimal_alpha,FNR))\n",
    "\n",
    "# Code for drawing seaborn heatmaps\n",
    "class_names = ['negative','positive']\n",
    "df_heatmap = pd.DataFrame(confusion_matrix(Y_test, predictions), index=class_names, columns=class_names )\n",
    "fig = plt.figure(figsize=(10,7))\n",
    "heatmap = sns.heatmap(df_heatmap, annot=True, fmt=\"d\")\n",
    "\n",
    "# Setting tick labels for heatmap\n",
    "heatmap.yaxis.set_ticklabels(heatmap.yaxis.get_ticklabels(), rotation=0, ha='right', fontsize=14)\n",
    "heatmap.xaxis.set_ticklabels(heatmap.xaxis.get_ticklabels(), rotation=0, ha='right', fontsize=14)\n",
    "plt.ylabel('Predicted label')\n",
    "plt.xlabel('True label')\n",
    "plt.title(\"Confusion Matrix\\n\")\n",
    "plt.show()"
   ]
  },
  {
   "cell_type": "markdown",
   "metadata": {
    "colab_type": "text",
    "id": "6bp7BbwCJkll"
   },
   "source": [
    "## [5.2] Applying Naive Bayes on TFIDF,<font color='red'> SET 2</font>"
   ]
  },
  {
   "cell_type": "code",
   "execution_count": 29,
   "metadata": {
    "colab": {},
    "colab_type": "code",
    "id": "oL29fzPFJkll"
   },
   "outputs": [
    {
     "name": "stdout",
     "output_type": "stream",
     "text": [
      "the type of count vectorizer : <class 'scipy.sparse.csr.csr_matrix'>\n",
      "the shape of out text TFIDF vectorizer :  (254919, 12709)\n",
      "the number of unique words : 12709\n"
     ]
    }
   ],
   "source": [
    "# Please write all the code with proper documentation\n",
    "tf_idf_vect = TfidfVectorizer(min_df=10)\n",
    "X_train_vec = tf_idf_vect.fit_transform(X_train)\n",
    "X_test_vec = tf_idf_vect.transform(X_test)\n",
    "\n",
    "print(\"the type of count vectorizer :\",type(X_train_vec))\n",
    "print(\"the shape of out text TFIDF vectorizer : \",X_train_vec.get_shape())\n",
    "print(\"the number of unique words :\", X_train_vec.get_shape()[1])"
   ]
  },
  {
   "cell_type": "code",
   "execution_count": 30,
   "metadata": {},
   "outputs": [
    {
     "name": "stdout",
     "output_type": "stream",
     "text": [
      "\n",
      "The optimal value of alpha is 0.081.\n"
     ]
    }
   ],
   "source": [
    "# Creating alpha values in the range from 10^-3 to 10^3\n",
    "neighbors = []\n",
    "i = 0.001\n",
    "while(i<=1000):\n",
    "    neighbors.append(np.round(i,3))\n",
    "    i *= 3\n",
    "\n",
    "# empty list that will hold cv scores\n",
    "cv_scores = []\n",
    "\n",
    "# perform 10-fold cross validation\n",
    "for k in neighbors:\n",
    "    bn = MultinomialNB(alpha = k)\n",
    "    scores = cross_val_score(bn, X_train_vec, Y_train, cv=10, scoring='accuracy', n_jobs=-1)\n",
    "    cv_scores.append(scores.mean())  \n",
    "    \n",
    "# determining best value of alpha\n",
    "optimal_alpha = neighbors[cv_scores.index(max(cv_scores))]\n",
    "print('\\nThe optimal value of alpha is %.3f.' % optimal_alpha)"
   ]
  },
  {
   "cell_type": "code",
   "execution_count": 42,
   "metadata": {},
   "outputs": [
    {
     "data": {
      "image/png": "[encoded data removed]",
      "text/plain": [
       "<Figure size 432x288 with 1 Axes>"
      ]
     },
     "metadata": {},
     "output_type": "display_data"
    },
    {
     "name": "stdout",
     "output_type": "stream",
     "text": [
      "\n",
      "\n",
      "Alpha values :\n",
      " [0.001, 0.003, 0.009, 0.027, 0.081, 0.243, 0.729, 2.187, 6.561, 19.683, 59.049, 177.147, 531.441]\n",
      "\n",
      "Accuracy for each alpha value is :\n",
      "  [0.88013 0.88017 0.88021 0.88025 0.88029 0.87975 0.87765 0.87056 0.85458\n",
      " 0.84405 0.84349 0.84349 0.84349]\n"
     ]
    }
   ],
   "source": [
    "# plot accuracy vs alpha \n",
    "plt.plot(neighbors, cv_scores)\n",
    "plt.xlabel('Value of alpha',size=10)\n",
    "plt.ylabel('Accuracy',size=10)\n",
    "plt.title('Accuracy VS Value Plot',size=16)\n",
    "plt.grid()\n",
    "plt.show()\n",
    "\n",
    "print(\"\\n\\nAlpha values :\\n\",neighbors)\n",
    "print(\"\\nAccuracy for each alpha value is :\\n \", np.round(cv_scores,5))"
   ]
  },
  {
   "cell_type": "code",
   "execution_count": 32,
   "metadata": {},
   "outputs": [
    {
     "name": "stdout",
     "output_type": "stream",
     "text": [
      "\n",
      "The Test Accuracy of the Multinomial naive Bayes classifier for alpha = 0.081 is 87.881229%\n"
     ]
    }
   ],
   "source": [
    "#MNB with optimal alpha\n",
    "bn_optimal = MultinomialNB(alpha = optimal_alpha)\n",
    "\n",
    "# fitting the model\n",
    "bn_optimal.fit(X_train_vec, Y_train)\n",
    "\n",
    "# predict the response\n",
    "predictions = bn_optimal.predict(X_test_vec)\n",
    "\n",
    "# evaluate accuracy\n",
    "acc = accuracy_score(Y_test, predictions) * 100\n",
    "print('\\nThe Test Accuracy of the Multinomial naive Bayes classifier for alpha = %.3f is %f%%' % (optimal_alpha, acc))\n",
    "\n",
    "# Variables that will be used for  making table in Conclusion part of this assignment\n",
    "tfidf_multinomial_alpha = optimal_alpha\n",
    "tfidf_multinomial_train_acc = max(cv_scores)*100\n",
    "tfidf_multinomial_test_acc = acc"
   ]
  },
  {
   "cell_type": "markdown",
   "metadata": {
    "colab_type": "text",
    "id": "Dtpj7iMSJkln"
   },
   "source": [
    "### [5.2.1] Top 10 important features of positive class from<font color='red'> SET 2</font>"
   ]
  },
  {
   "cell_type": "code",
   "execution_count": 33,
   "metadata": {},
   "outputs": [
    {
     "data": {
      "text/plain": [
       "array(['negative', 'positive'], dtype='<U8')"
      ]
     },
     "execution_count": 33,
     "metadata": {},
     "output_type": "execute_result"
    }
   ],
   "source": [
    "bn_optimal.classes_"
   ]
  },
  {
   "cell_type": "code",
   "execution_count": 71,
   "metadata": {
    "colab": {},
    "colab_type": "code",
    "id": "g3flcTmmJklo"
   },
   "outputs": [
    {
     "name": "stdout",
     "output_type": "stream",
     "text": [
      "\u001b[1m  Top 10 positive features are \u001b[0m\n",
      "beaten = -11.356869\n",
      "shipe = -13.066517\n",
      "rda = -10.622099\n",
      "satisfactori = -10.958553\n",
      "satur = -9.239673\n",
      "sandwhich = -12.162376\n",
      "refresh = -7.871150\n",
      "satan = -12.904077\n",
      "overkil = -12.071423\n",
      "long = -6.497812\n"
     ]
    }
   ],
   "source": [
    "class_features = bn_optimal.feature_log_prob_\n",
    "\n",
    "# row 0 is for negative and row 1 is positive\n",
    "negative_features = class_features[0]\n",
    "positive_features = class_features[1]\n",
    "\n",
    "#Getting all feature names\n",
    "feature_names = count_vect.get_feature_names()\n",
    "\n",
    "#Sorting by argsort\n",
    "sorted_negative_features = np.argsort(negative_features[::-1])\n",
    "sorted_positive_features = np.argsort(positive_features[::-1])\n",
    "\n",
    "print('\\033[1m  Top 10 positive features are \\033[0m')\n",
    "for i in list(sorted_positive_features[0:10]):\n",
    "        print(\"%s = %f\" % (feature_names[i] , positive_features[i]))"
   ]
  },
  {
   "cell_type": "markdown",
   "metadata": {
    "colab_type": "text",
    "id": "UovIVRyEJklq"
   },
   "source": [
    "### [5.2.2] Top 10 important features of negative class from<font color='red'> SET 2</font>"
   ]
  },
  {
   "cell_type": "code",
   "execution_count": 69,
   "metadata": {
    "colab": {},
    "colab_type": "code",
    "id": "i3i3cShuJklr"
   },
   "outputs": [
    {
     "name": "stdout",
     "output_type": "stream",
     "text": [
      "\u001b[1m  Top 10 negative features are \u001b[0m\n",
      "steam = -9.070005\n",
      "weeni = -12.912620\n",
      "lactaid = -19.011692\n",
      "atmospher = -13.603524\n",
      "kuerig = -11.356249\n",
      "atroci = -11.304979\n",
      "korea = -11.661461\n",
      "disapprov = -12.353966\n",
      "disast = -9.870237\n",
      "knott = -12.912620\n"
     ]
    }
   ],
   "source": [
    "class_features = bn_optimal.feature_log_prob_\n",
    "\n",
    "# row 0 is for negative and row 1 is positive\n",
    "negative_features = class_features[0]\n",
    "positive_features = class_features[1]\n",
    "\n",
    "#Getting all feature names\n",
    "feature_names = count_vect.get_feature_names()\n",
    "\n",
    "#Sorting by argsort\n",
    "sorted_negative_features = np.argsort(negative_features[::-1])\n",
    "sorted_positive_features = np.argsort(positive_features[::-1])\n",
    "\n",
    "print('\\033[1m  Top 10 negative features are \\033[0m')\n",
    "for i in list(sorted_negative_features[0:10]):\n",
    "        print(\"%s = %f\" % (feature_names[i] , negative_features[i]))"
   ]
  },
  {
   "cell_type": "code",
   "execution_count": 55,
   "metadata": {},
   "outputs": [
    {
     "name": "stdout",
     "output_type": "stream",
     "text": [
      "TPR of the Multinomial naive Bayes classifier for alpha = 0.081 is :  0.877965\n",
      "FPR of the Multinomial naive Bayes classifier for alpha = 0.081 is :  0.103572\n",
      "TNR of the Multinomial naive Bayes classifier for alpha = 0.081 is :  0.896428\n",
      "FNR of the Multinomial naive Bayes classifier for alpha = 0.081 is :  0.122035\n"
     ]
    },
    {
     "data": {
      "image/png": "[encoded data removed]",
      "text/plain": [
       "<Figure size 720x504 with 2 Axes>"
      ]
     },
     "metadata": {},
     "output_type": "display_data"
    }
   ],
   "source": [
    "#Ref: Stackoverflow \n",
    "from sklearn.metrics import accuracy_score,confusion_matrix,f1_score,precision_score,recall_score \n",
    "# Evaluate TPR , FPR , TNR , FNR\n",
    "TrueNeg,FalseNeg,FalsePos, TruePos = confusion_matrix(Y_test, predictions).ravel()\n",
    "\n",
    "# Evaluate TPR (TPR = TP/(FN+TP))\n",
    "TPR = TruePos/(FalseNeg + TruePos)\n",
    "print(\"TPR of the Multinomial naive Bayes classifier for alpha = %.3f is :  %f\" % (optimal_alpha,TPR))\n",
    "\n",
    "# Evaluate FPR (FPR = FP/(TN+FP))\n",
    "FPR = FalsePos/(TrueNeg + FalsePos)\n",
    "print(\"FPR of the Multinomial naive Bayes classifier for alpha = %.3f is :  %f\" % (optimal_alpha,FPR))\n",
    "\n",
    "# Evaluate TNR (TNR = TN/(TN+FP))\n",
    "TNR = TrueNeg/(TrueNeg + FalsePos)\n",
    "print(\"TNR of the Multinomial naive Bayes classifier for alpha = %.3f is :  %f\" % (optimal_alpha,TNR))\n",
    "\n",
    "# Evaluate FNR (FNR = TN/(FN+TP))\n",
    "FNR = FalseNeg/(FalseNeg + TruePos)\n",
    "print(\"FNR of the Multinomial naive Bayes classifier for alpha = %.3f is :  %f\" % (optimal_alpha,FNR))\n",
    "\n",
    "# Code for drawing seaborn heatmaps\n",
    "class_names = ['negative','positive']\n",
    "df_heatmap = pd.DataFrame(confusion_matrix(Y_test, predictions), index=class_names, columns=class_names )\n",
    "fig = plt.figure(figsize=(10,7))\n",
    "heatmap = sns.heatmap(df_heatmap, annot=True, fmt=\"d\")\n",
    "\n",
    "# Setting tick labels for heatmap\n",
    "heatmap.yaxis.set_ticklabels(heatmap.yaxis.get_ticklabels(), rotation=0, ha='right', fontsize=14)\n",
    "heatmap.xaxis.set_ticklabels(heatmap.xaxis.get_ticklabels(), rotation=0, ha='right', fontsize=14)\n",
    "plt.ylabel('Predicted label')\n",
    "plt.xlabel('True label')\n",
    "plt.title(\"Confusion Matrix\\n\")\n",
    "plt.show()"
   ]
  },
  {
   "cell_type": "markdown",
   "metadata": {
    "colab_type": "text",
    "id": "vst5Y7mmJklu"
   },
   "source": [
    "# [6] Conclusions"
   ]
  },
  {
   "cell_type": "code",
   "execution_count": 39,
   "metadata": {
    "colab": {},
    "colab_type": "code",
    "id": "De9HYtIGJklv",
    "scrolled": false
   },
   "outputs": [
    {
     "name": "stdout",
     "output_type": "stream",
     "text": [
      "+-------+--------------------------+------------+-------------------+-------------------+\n",
      "| S.NO. |          MODEL           | Best Alpha | Training Accuracy |   Test Accuracy   |\n",
      "+-------+--------------------------+------------+-------------------+-------------------+\n",
      "|   1   |  Multinomial NB for BOW  |   0.009    | 90.07920206759049 | 89.91597407827774 |\n",
      "|   2   | Multinomial NB for Tfidf |   0.081    | 88.02874746506195 | 87.88122871892506 |\n",
      "+-------+--------------------------+------------+-------------------+-------------------+\n"
     ]
    }
   ],
   "source": [
    "# Please compare all your models using Prettytable library\n",
    "#Ref: http://zetcode.com/python/prettytable/\n",
    "\n",
    "from prettytable import PrettyTable\n",
    "import random\n",
    "\n",
    "x = PrettyTable()\n",
    "numbering = [1,2]\n",
    "names = [\"Multinomial NB for BOW\", \"Multinomial NB for Tfidf\"]\n",
    "optimal_alpha = [bow_multinomial_alpha,tfidf_multinomial_alpha]\n",
    "train_acc = [bow_multinomial_train_acc, tfidf_multinomial_train_acc]\n",
    "test_acc = [bow_multinomial_test_acc, tfidf_multinomial_test_acc]\n",
    "\n",
    "# Adding columns\n",
    "x.add_column(\"S.NO.\",numbering)\n",
    "x.add_column(\"MODEL\",names)\n",
    "x.add_column(\"Best Alpha\",optimal_alpha)\n",
    "x.add_column(\"Training Accuracy\",train_acc)\n",
    "x.add_column(\"Test Accuracy\",test_acc)\n",
    "\n",
    "# Printing the Table\n",
    "print(x)"
   ]
  }
 ],
 "metadata": {
  "colab": {
   "name": "04 Amazon Fine Food Reviews Analysis_NaiveBayes.ipynb",
   "provenance": [],
   "version": "0.3.2"
  },
  "kernelspec": {
   "display_name": "Python 3",
   "language": "python",
   "name": "python3"
  },
  "language_info": {
   "codemirror_mode": {
    "name": "ipython",
    "version": 3
   },
   "file_extension": ".py",
   "mimetype": "text/x-python",
   "name": "python",
   "nbconvert_exporter": "python",
   "pygments_lexer": "ipython3",
   "version": "3.6.5"
  }
 },
 "nbformat": 4,
 "nbformat_minor": 1
}
